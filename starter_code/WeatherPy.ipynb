{
 "cells": [
  {
   "cell_type": "markdown",
   "metadata": {},
   "source": [
    "# WeatherPy\n",
    "----\n",
    "## Observations\n",
    "\n",
    "Latitude appears to correlate with temperature: the closer a city is to the equator, the higher the temperature. As you move away from the equator - either north or south - the temperature decreases.\n",
    "\n",
    "Latitude does not appear to affect the percentage of cloudiness. \n",
    "Throughout the specturm of latitude, some cities are at 100% cloudiness while others are at 0%.\n",
    "\n",
    "The majority of cities have wind speeds below 20mph but the wind speed does not appear to increase or decrease as one moves north or south in latitude.\n",
    "\n",
    "There are two outliers with exceptionally high humidity (Puerto Maldonado,Peru and Paita, Peru) but aside from those, all other humidity is 100% or less. Humidity is highest at far northern and southern latitudes as well as near the equator (generally between 50% and 100%) and lower around 20 degrees south and 20-40 degrees north.\n",
    "\n",
    "----\n",
    "#### Note\n",
    "* Instructions have been included for each segment. You do not have to follow them exactly, but they are included to help you think through the steps."
   ]
  },
  {
   "cell_type": "code",
   "execution_count": 1,
   "metadata": {
    "scrolled": true
   },
   "outputs": [],
   "source": [
    "# Dependencies\n",
    "import numpy as np\n",
    "import pandas as pd\n",
    "import requests\n",
    "import time\n",
    "from scipy.stats import linregress\n",
    "from matplotlib import pyplot as plt\n",
    "from api_keys import weather_api_key\n",
    "from citipy import citipy\n",
    "\n",
    "\n",
    "# Output File (CSV)\n",
    "output_data_file = \"output_data/cities.csv\"\n",
    "\n",
    "# Range of latitudes and longitudes\n",
    "lat_range = (-90, 90)\n",
    "lng_range = (-180, 180)\n"
   ]
  },
  {
   "cell_type": "markdown",
   "metadata": {},
   "source": [
    "## Generate Cities List"
   ]
  },
  {
   "cell_type": "code",
   "execution_count": null,
   "metadata": {},
   "outputs": [],
   "source": [
    "# List for holding lat_lngs and cities\n",
    "lat_lngs = []\n",
    "cities = []\n",
    "\n",
    "# Create a set of random lat and lng combinations\n",
    "lats = np.random.uniform(low=-90.000, high=90.000, size=1000)\n",
    "lngs = np.random.uniform(low=-180.000, high=180.000, size=1000)\n",
    "lat_lngs = zip(lats, lngs) \n",
    "\n",
    "# Identify nearest city for each lat, lng combination\n",
    "for lat_lng in lat_lngs:\n",
    "    city = citipy.nearest_city(lat_lng[0], lat_lng[1]).city_name\n",
    "    \n",
    "    # If the city is unique, then add it to a our cities list\n",
    "    if city not in cities:\n",
    "        city = city.replace(\" \",\"%20\") #replace space with 20% so url doesnt break.\n",
    "        \n",
    "        cities.append(city)\n",
    "\n",
    "# Print the city count to confirm sufficient count\n",
    "len(cities)"
   ]
  },
  {
   "cell_type": "markdown",
   "metadata": {},
   "source": [
    "### Perform API Calls\n",
    "* Perform a weather check on each city using a series of successive API calls.\n",
    "* Include a print log of each city as it'sbeing processed (with the city number and city name).\n"
   ]
  },
  {
   "cell_type": "code",
   "execution_count": 30,
   "metadata": {
    "scrolled": true,
    "tags": []
   },
   "outputs": [
    {
     "output_type": "stream",
     "name": "stdout",
     "text": [
      "http://api.openweathermap.org/data/2.5/weather?appid=b99de8080f7598e3d09f80123d76496c&units=imperical&q=imbituba\n",
      "Beginning Data Retrieval\n",
      "-----------------------------\n",
      "Processing Record 1 | imbituba\n",
      "Processing Record 2 | asau\n",
      "Processing Record 3 | gornopravdinsk\n",
      "Processing Record 4 | puerto%20ayora\n",
      "Processing Record 5 | stokmarknes\n",
      "Processing Record 6 | atuona\n",
      "Processing Record 7 | qaanaaq\n",
      "City not found. Skipping...\n",
      "Processing Record 8 | gigmoto\n",
      "Processing Record 9 | takaka\n",
      "Processing Record 10 | narsaq\n",
      "Processing Record 11 | butaritari\n",
      "Processing Record 12 | berga\n",
      "Processing Record 13 | yellowknife\n",
      "Processing Record 14 | nouadhibou\n",
      "Processing Record 15 | busselton\n",
      "Processing Record 16 | tsimlyansk\n",
      "Processing Record 17 | srednekolymsk\n",
      "Processing Record 18 | adrar\n",
      "Processing Record 19 | hithadhoo\n",
      "Processing Record 20 | provideniya\n",
      "Processing Record 21 | jamestown\n",
      "Processing Record 22 | arraial%20do%20cabo\n",
      "Processing Record 23 | east%20london\n",
      "Processing Record 24 | dunedin\n",
      "City not found. Skipping...\n",
      "Processing Record 25 | airai\n",
      "Processing Record 26 | carnarvon\n",
      "City not found. Skipping...\n",
      "Processing Record 27 | albany\n",
      "Processing Record 28 | bredasdorp\n",
      "Processing Record 29 | ushuaia\n",
      "Processing Record 30 | hilo\n",
      "Processing Record 31 | georgetown\n",
      "City not found. Skipping...\n",
      "Processing Record 32 | east%20london\n",
      "Processing Record 33 | barrow\n",
      "Processing Record 34 | arraial%20do%20cabo\n",
      "Processing Record 35 | lebu\n",
      "City not found. Skipping...\n",
      "Processing Record 36 | paamiut\n",
      "Processing Record 37 | mataura\n",
      "Processing Record 38 | goderich\n",
      "Processing Record 39 | lavras\n",
      "Processing Record 40 | canutama\n",
      "Processing Record 41 | severo-kurilsk\n",
      "Processing Record 42 | toba\n",
      "Processing Record 43 | hobart\n",
      "Processing Record 44 | villa%20rica\n",
      "Processing Record 45 | saint-joseph\n",
      "City not found. Skipping...\n",
      "Processing Record 46 | bud\n",
      "Processing Record 47 | tuktoyaktuk\n",
      "Processing Record 48 | vilhena\n",
      "Processing Record 49 | cape%20town\n",
      "Processing Record 50 | otaru\n",
      "Processing Record 51 | taber\n",
      "Processing Record 52 | yulara\n",
      "Processing Record 53 | rikitea\n",
      "City not found. Skipping...\n",
      "Processing Record 54 | ishigaki\n",
      "Processing Record 55 | saint-philippe\n",
      "Processing Record 56 | kapaa\n",
      "Processing Record 57 | bluff\n",
      "Processing Record 58 | geraldton\n",
      "Processing Record 59 | xingyi\n",
      "Processing Record 60 | punta%20arenas\n",
      "City not found. Skipping...\n",
      "Processing Record 61 | hervey%20bay\n",
      "Processing Record 62 | mount%20isa\n",
      "Processing Record 63 | bethel\n",
      "City not found. Skipping...\n",
      "Processing Record 64 | paka\n",
      "Processing Record 65 | upernavik\n",
      "Processing Record 66 | kerema\n",
      "Processing Record 67 | hermanus\n",
      "Processing Record 68 | bambanglipuro\n",
      "Processing Record 69 | henties%20bay\n",
      "Processing Record 70 | beloha\n",
      "Processing Record 71 | lompoc\n",
      "Processing Record 72 | basco\n",
      "Processing Record 73 | abashiri\n",
      "Processing Record 74 | kabelvag\n",
      "City not found. Skipping...\n",
      "Processing Record 75 | morwell\n",
      "Processing Record 76 | cherskiy\n",
      "Processing Record 77 | porto%20belo\n",
      "Processing Record 78 | east%20london\n",
      "Processing Record 79 | khatanga\n",
      "Processing Record 80 | wad%20rawah\n",
      "Processing Record 81 | tasiilaq\n",
      "City not found. Skipping...\n",
      "Processing Record 82 | kankon\n",
      "Processing Record 83 | guerrero%20negro\n",
      "Processing Record 84 | general%20roca\n",
      "Processing Record 85 | sao%20filipe\n",
      "Processing Record 86 | chernyshevskiy\n",
      "Processing Record 87 | tahe\n",
      "Processing Record 88 | cape%20town\n",
      "Processing Record 89 | yasnyy\n",
      "City not found. Skipping...\n",
      "Processing Record 90 | talnakh\n",
      "Processing Record 91 | vaini\n",
      "Processing Record 92 | nikolskoye\n",
      "Processing Record 93 | paragominas\n",
      "Processing Record 94 | lafiagi\n",
      "Processing Record 95 | puerto%20escondido\n",
      "Processing Record 96 | cape%20town\n",
      "Processing Record 97 | salalah\n",
      "City not found. Skipping...\n",
      "Processing Record 98 | curuca\n",
      "Processing Record 99 | huangchuan\n",
      "Processing Record 100 | ipixuna\n",
      "Processing Record 101 | port%20elizabeth\n",
      "Processing Record 102 | arlit\n",
      "Processing Record 103 | ribeira%20grande\n",
      "Processing Record 104 | tolaga%20bay\n",
      "City not found. Skipping...\n",
      "Processing Record 105 | meulaboh\n",
      "Processing Record 106 | pevek\n",
      "Processing Record 107 | avarua\n",
      "Processing Record 108 | hurricane\n",
      "Processing Record 109 | north%20bend\n",
      "Processing Record 110 | saint-leu\n",
      "Processing Record 111 | izazi\n",
      "Processing Record 112 | torbay\n",
      "Processing Record 113 | sicamous\n",
      "Processing Record 114 | chizhou\n",
      "Processing Record 115 | kaduqli\n",
      "Processing Record 116 | bereda\n",
      "Processing Record 117 | pittsburg\n",
      "Processing Record 118 | port%20alfred\n",
      "Processing Record 119 | isangel\n",
      "Processing Record 120 | colomi\n",
      "City not found. Skipping...\n",
      "Processing Record 121 | epe\n",
      "Processing Record 122 | hasaki\n",
      "Processing Record 123 | neijiang\n",
      "Processing Record 124 | cape%20town\n",
      "Processing Record 125 | enterprise\n",
      "Processing Record 126 | erenhot\n",
      "Processing Record 127 | pilar\n",
      "Processing Record 128 | port%20alfred\n",
      "Processing Record 129 | concepcion\n",
      "Processing Record 130 | taltal\n",
      "Processing Record 131 | waingapu\n",
      "Processing Record 132 | laguna\n",
      "Processing Record 133 | nizhnevartovsk\n",
      "Processing Record 134 | kloulklubed\n",
      "Processing Record 135 | vila%20franca%20do%20campo\n",
      "Processing Record 136 | bilara\n",
      "Processing Record 137 | mareeba\n",
      "Processing Record 138 | muli\n",
      "Processing Record 139 | east%20london\n",
      "Processing Record 140 | baruun-urt\n",
      "Processing Record 141 | dikson\n",
      "Processing Record 142 | moree\n",
      "Processing Record 143 | saint-pierre\n",
      "Processing Record 144 | margate\n",
      "Processing Record 145 | anadyr\n",
      "Processing Record 146 | khvastovichi\n",
      "Processing Record 147 | port%20alfred\n",
      "City not found. Skipping...\n",
      "Processing Record 148 | prince%20rupert\n",
      "Processing Record 149 | puerto%20ayora\n",
      "Processing Record 150 | punta%20arenas\n",
      "Processing Record 151 | lavrentiya\n",
      "Processing Record 152 | maldonado\n",
      "City not found. Skipping...\n",
      "Processing Record 153 | new%20norfolk\n",
      "Processing Record 154 | punta%20arenas\n",
      "Processing Record 155 | san%20benito%20abad\n",
      "Processing Record 156 | victoria\n",
      "Processing Record 157 | kharovsk\n",
      "Processing Record 158 | kodiak\n",
      "Processing Record 159 | sabha\n",
      "Processing Record 160 | mahebourg\n",
      "Processing Record 161 | east%20london\n",
      "Processing Record 162 | aripuana\n",
      "Processing Record 163 | bambous%20virieux\n",
      "Processing Record 164 | tautira\n",
      "Processing Record 165 | hualmay\n",
      "City not found. Skipping...\n",
      "Processing Record 166 | nishihara\n",
      "Processing Record 167 | lampa\n",
      "Processing Record 168 | sakakah\n",
      "Processing Record 169 | saint-augustin\n",
      "Processing Record 170 | kavieng\n",
      "Processing Record 171 | ribeira%20grande\n",
      "Processing Record 172 | talcahuano\n",
      "Processing Record 173 | ribeira%20grande\n",
      "Processing Record 174 | esperance\n",
      "Processing Record 175 | saldanha\n",
      "Processing Record 176 | cape%20town\n",
      "Processing Record 177 | ahipara\n",
      "City not found. Skipping...\n",
      "Processing Record 178 | sitka\n",
      "Processing Record 179 | ginda\n",
      "Processing Record 180 | sahuaripa\n",
      "Processing Record 181 | punta%20arenas\n",
      "Processing Record 182 | yenagoa\n",
      "Processing Record 183 | zhangye\n",
      "Processing Record 184 | ostrovnoy\n",
      "Processing Record 185 | paraiso\n",
      "Processing Record 186 | riyadh\n",
      "Processing Record 187 | cravo%20norte\n",
      "Processing Record 188 | oranjestad\n",
      "Processing Record 189 | okha\n",
      "Processing Record 190 | port%20elizabeth\n",
      "Processing Record 191 | shache\n",
      "Processing Record 192 | boa%20vista\n",
      "Processing Record 193 | coxim\n",
      "Processing Record 194 | saskylakh\n",
      "Processing Record 195 | tuatapere\n",
      "Processing Record 196 | garissa\n",
      "Processing Record 197 | mackay\n",
      "Processing Record 198 | bengkulu\n",
      "Processing Record 199 | kutum\n",
      "Processing Record 200 | marienburg\n",
      "Processing Record 201 | new%20norfolk\n",
      "Processing Record 202 | kamenka\n",
      "Processing Record 203 | castres\n",
      "Processing Record 204 | olenino\n",
      "Processing Record 205 | katsuura\n",
      "Processing Record 206 | mount%20gambier\n",
      "Processing Record 207 | kigorobya\n",
      "Processing Record 208 | banda%20aceh\n",
      "Processing Record 209 | sibenik\n",
      "Processing Record 210 | chuy\n",
      "Processing Record 211 | baykit\n",
      "Processing Record 212 | broome\n",
      "Processing Record 213 | panaba\n",
      "Processing Record 214 | touros\n",
      "Processing Record 215 | longyearbyen\n",
      "Processing Record 216 | hobyo\n",
      "Processing Record 217 | ponta%20do%20sol\n",
      "Processing Record 218 | san%20patricio\n",
      "Processing Record 219 | ribeira%20grande\n",
      "Processing Record 220 | ahtopol\n",
      "City not found. Skipping...\n",
      "Processing Record 221 | goundam\n",
      "Processing Record 222 | port-gentil\n",
      "Processing Record 223 | kudahuvadhoo\n",
      "Processing Record 224 | new%20norfolk\n",
      "Processing Record 225 | evanston\n",
      "Processing Record 226 | cam%20ranh\n",
      "Processing Record 227 | pisco\n",
      "Processing Record 228 | mar%20del%20plata\n",
      "Processing Record 229 | cape%20town\n",
      "Processing Record 230 | coahuayana\n",
      "Processing Record 231 | nouakchott\n",
      "Processing Record 232 | souillac\n",
      "Processing Record 233 | ribeira%20grande\n",
      "Processing Record 234 | faanui\n",
      "Processing Record 235 | koson\n",
      "Processing Record 236 | mar%20del%20plata\n",
      "Processing Record 237 | vermillion\n",
      "Processing Record 238 | castro\n",
      "Processing Record 239 | ilulissat\n",
      "Processing Record 240 | talaya\n",
      "Processing Record 241 | guerrero%20negro\n",
      "Processing Record 242 | letka\n",
      "Processing Record 243 | tullow\n",
      "Processing Record 244 | bongouanou\n",
      "Processing Record 245 | leningradskiy\n",
      "Processing Record 246 | price\n",
      "Processing Record 247 | escarcega\n",
      "Processing Record 248 | kaitangata\n",
      "City not found. Skipping...\n",
      "Processing Record 249 | ellisras\n",
      "Processing Record 250 | punta%20arenas\n",
      "Processing Record 251 | palatka\n",
      "Processing Record 252 | cabo%20san%20lucas\n",
      "Processing Record 253 | duiwelskloof\n",
      "Processing Record 254 | beira\n",
      "Processing Record 255 | oranjemund\n",
      "Processing Record 256 | fort%20nelson\n",
      "Processing Record 257 | lagoa\n",
      "City not found. Skipping...\n",
      "Processing Record 258 | petropavlovsk-kamchatskiy\n",
      "Processing Record 259 | new%20norfolk\n",
      "Processing Record 260 | vestmannaeyjar\n",
      "Processing Record 261 | westport\n",
      "City not found. Skipping...\n",
      "Processing Record 262 | kalabo\n",
      "Processing Record 263 | gizo\n",
      "City not found. Skipping...\n",
      "Processing Record 264 | ribeira%20grande\n",
      "Processing Record 265 | vallenar\n",
      "Processing Record 266 | powell%20river\n",
      "Processing Record 267 | sao%20joao%20da%20barra\n"
     ]
    }
   ],
   "source": [
    "# Save config information.\n",
    "url = \"http://api.openweathermap.org/data/2.5/weather?\"\n",
    "units = \"imperical\"\n",
    "\n",
    "# Build partial query URL\n",
    "query_url = f\"{url}appid={weather_api_key}&units={units}&q=\"\n",
    "\n",
    "print(query_url+cities[0])\n",
    "#Set up respone info\n",
    "city_name = []\n",
    "cloudiness = []\n",
    "country = []\n",
    "date = []\n",
    "humidity = []\n",
    "lat = []\n",
    "lng = []\n",
    "max_temp = []\n",
    "wind_speed = []\n",
    "\n",
    "record = 1\n",
    "\n",
    "print(f'Beginning Data Retrieval')\n",
    "print(f'-----------------------------')\n",
    "# Loop through the list of cities and perform a request for data on each\n",
    "for city in cities:\n",
    "    try:\n",
    "        response = requests.get(f'{query_url}{city}').json()\n",
    "        city_name.append(response[\"name\"])\n",
    "        cloudiness.append(response[\"clouds\"][\"all\"])\n",
    "        country.append(response[\"sys\"][\"country\"])\n",
    "        date.append(response[\"dt\"])\n",
    "        humidity.append(response[\"main\"][\"humidity\"])\n",
    "        lat.append(response[\"coord\"][\"lat\"])\n",
    "        lng.append(response[\"coord\"][\"lon\"])\n",
    "        max_temp.append(response[\"main\"][\"temp_max\"])\n",
    "        wind_speed.append(response[\"wind\"][\"speed\"])\n",
    "        print(f'Processing Record {record} | {city}')\n",
    "        record = record + 1\n",
    "    except KeyError:\n",
    "        print(f'City not found. Skipping...')\n",
    "    time.sleep(1)"
   ]
  },
  {
   "cell_type": "markdown",
   "metadata": {},
   "source": [
    "### Convert Raw Data to DataFrame\n",
    "* Export the city data into a .csv.\n",
    "* Display the DataFrame"
   ]
  },
  {
   "cell_type": "code",
   "execution_count": null,
   "metadata": {},
   "outputs": [],
   "source": [
    "city_data = pd.DataFrame({\"City\": city_name,\n",
    "                         \"Cloudiness\": cloudiness,\n",
    "                         \"Country\": country, \n",
    "                         \"Date\": date,\n",
    "                         \"Humidity\": humidity,\n",
    "                         \"Lat\": lat,\n",
    "                         \"Lng\": lng,\n",
    "                         \"Max Temp\": max_temp,\n",
    "                         \"Wind Speed\": wind_speed})\n",
    "\n",
    "city_data.to_csv(\"city_weather_data.csv\")\n",
    "city_data.count()"
   ]
  },
  {
   "cell_type": "code",
   "execution_count": null,
   "metadata": {},
   "outputs": [],
   "source": [
    "city_data.head()"
   ]
  },
  {
   "cell_type": "markdown",
   "metadata": {},
   "source": [
    "## Inspect the data and remove the cities where the humidity > 100%.\n",
    "----\n",
    "Skip this step if there are no cities that have humidity > 100%. "
   ]
  },
  {
   "cell_type": "code",
   "execution_count": null,
   "metadata": {},
   "outputs": [],
   "source": [
    "city_data_H_under100 = city_data.loc[city_data[\"Humidity\"]<100]\n",
    "city_data_H_under100"
   ]
  },
  {
   "cell_type": "code",
   "execution_count": null,
   "metadata": {},
   "outputs": [],
   "source": [
    "#  Get the indices of cities that have humidity over 100%.\n",
    "city_data_H_above100 = city_data.loc[city_data[\"Humidity\"]>100]\n",
    "city_data_H_above100.index\n"
   ]
  },
  {
   "cell_type": "code",
   "execution_count": null,
   "metadata": {},
   "outputs": [],
   "source": [
    "# Make a new DataFrame equal to the city data to drop all humidity outliers by index.\n",
    "# Passing \"inplace=False\" will make a copy of the city_data DataFrame, which we call \"clean_city_data\".\n",
    "clean_city_data = city_data_H_under100\n",
    "clean_city_data"
   ]
  },
  {
   "cell_type": "code",
   "execution_count": null,
   "metadata": {},
   "outputs": [],
   "source": [
    "\n"
   ]
  },
  {
   "cell_type": "markdown",
   "metadata": {},
   "source": [
    "## Plotting the Data\n",
    "* Use proper labeling of the plots using plot titles (including date of analysis) and axes labels.\n",
    "* Save the plotted figures as .pngs."
   ]
  },
  {
   "cell_type": "markdown",
   "metadata": {},
   "source": [
    "## Latitude vs. Temperature Plot"
   ]
  },
  {
   "cell_type": "code",
   "execution_count": null,
   "metadata": {
    "scrolled": true
   },
   "outputs": [],
   "source": [
    "# Plotting the data for Latitude vs Max Temp\n",
    "plt.figure(figsize=(10,8))\n",
    "plt.scatter(clean_city_data['Lat'], clean_city_data['Max Temp'],edgecolor=\"black\", linewidth = .75)\n",
    "plt.title(f\"City Latitude vs. Max Temperature (30/01/21)\", fontsize=\"16\")\n",
    "plt.xlabel(\"Latitude\", fontsize=\"14\")\n",
    "plt.ylabel(\"Max Temperature (F)\", fontsize=\"14\")\n",
    "plt.ylim(0, 120)\n",
    "plt.savefig(\"Lat vs Temp.png\")\n",
    "\n",
    "plt.show()"
   ]
  },
  {
   "cell_type": "markdown",
   "metadata": {},
   "source": [
    "## Latitude vs. Humidity Plot"
   ]
  },
  {
   "cell_type": "code",
   "execution_count": null,
   "metadata": {},
   "outputs": [],
   "source": [
    "plt.scatter(clean_city_data[\"Lat\"], clean_city_data[\"Humidity\"], edgecolor=\"black\", linewidth = .75, color=\"mediumpurple\")\n",
    "plt.title(\"City Latitude vs Humidity (30/01/2019)\")\n",
    "plt.xlabel(\"Latitude\")\n",
    "plt.ylabel(\"Humidity (%)\")\n",
    "plt.grid()\n",
    "\n",
    "plt.savefig(\"Lat vs Humidity.png\")\n",
    "plt.show()"
   ]
  },
  {
   "cell_type": "markdown",
   "metadata": {},
   "source": [
    "## Latitude vs. Cloudiness Plot"
   ]
  },
  {
   "cell_type": "code",
   "execution_count": null,
   "metadata": {},
   "outputs": [],
   "source": [
    "plt.scatter(clean_city_data[\"Lat\"], clean_city_data[\"Cloudiness\"], edgecolor=\"black\", linewidth = .75, color=\"salmon\")\n",
    "plt.title(\"City Latitude vs Cloudiness (30/01/2021)\")\n",
    "plt.xlabel(\"Latitude\")\n",
    "plt.ylabel(\"Cloudiness (%)\")\n",
    "plt.grid()\n",
    "\n",
    "plt.savefig(\"Lat vs Cloudiness.png\")\n",
    "plt.show()"
   ]
  },
  {
   "cell_type": "markdown",
   "metadata": {},
   "source": [
    "## Latitude vs. Wind Speed Plot"
   ]
  },
  {
   "cell_type": "code",
   "execution_count": null,
   "metadata": {},
   "outputs": [],
   "source": [
    "plt.scatter(clean_city_data[\"Lat\"], clean_city_data[\"Wind Speed\"], edgecolor=\"black\", linewidth = .75, color=\"mediumaquamarine\")\n",
    "plt.title(\"City Latitude vs Wind Speed (30/01/2021)\")\n",
    "plt.xlabel(\"Latitude\")\n",
    "plt.ylabel(\"Wind Speed (mph)\")\n",
    "plt.grid()\n",
    "\n",
    "plt.savefig(\"Lat vs Wind.png\")\n",
    "plt.show()"
   ]
  },
  {
   "cell_type": "markdown",
   "metadata": {},
   "source": [
    "## Linear Regression"
   ]
  },
  {
   "cell_type": "code",
   "execution_count": null,
   "metadata": {},
   "outputs": [],
   "source": [
    "#Filter out Nothen and Southen Hemisphere data using Latidudes\n",
    "clean_city_data_Nth = clean_city_data.loc[clean_city_data[\"Lat\"] > 0]\n",
    "clean_city_data_Sth = clean_city_data.loc[clean_city_data[\"Lat\"] < 0]\n",
    "\n",
    "x_values = clean_city_data_Nth['Lat']\n",
    "y_values = clean_city_data_Nth['Max Temp']\n",
    "(slope, intercept, rvalue, pvalue, stderr) = linregress(x_values, y_values)\n",
    "regress_values = x_values * slope + intercept\n",
    "line_eq = \"y = \" + str(round(slope,2)) + \"x + \" + str(round(intercept,2))\n",
    "plt.scatter(x_values,y_values)\n",
    "plt.plot(x_values,regress_values,\"r-\")\n",
    "plt.annotate(line_eq,(30,30),fontsize=15,color=\"red\")\n",
    "plt.xlabel('Latitute')\n",
    "plt.ylabel('Max Temperature (F)')\n",
    "print(f\"The r-squared is: {rvalue**2}\")\n",
    "plt.show()"
   ]
  },
  {
   "cell_type": "markdown",
   "metadata": {},
   "source": [
    "####  Northern Hemisphere - Max Temp vs. Latitude Linear Regression"
   ]
  },
  {
   "cell_type": "code",
   "execution_count": null,
   "metadata": {},
   "outputs": [],
   "source": [
    "x_values = clean_city_data_Sth['Lat']\n",
    "y_values = clean_city_data_Sth['Max Temp']\n",
    "(slope, intercept, rvalue, pvalue, stderr) = linregress(x_values, y_values)\n",
    "regress_values = x_values * slope + intercept\n",
    "line_eq = \"y = \" + str(round(slope,2)) + \"x + \" + str(round(intercept,2))\n",
    "plt.scatter(x_values,y_values)\n",
    "plt.plot(x_values,regress_values,\"r-\")\n",
    "plt.annotate(line_eq,(-40,20),fontsize=15,color=\"red\")\n",
    "plt.xlabel('Latitute')\n",
    "plt.ylabel('Max Temperature (F)')\n",
    "print(f\"The r-squared is: {rvalue**2}\")\n",
    "plt.show()"
   ]
  },
  {
   "cell_type": "markdown",
   "metadata": {},
   "source": [
    "####  Southern Hemisphere - Max Temp vs. Latitude Linear Regression"
   ]
  },
  {
   "cell_type": "code",
   "execution_count": null,
   "metadata": {},
   "outputs": [],
   "source": [
    "x_values = clean_city_data_Nth['Lat']\n",
    "y_values = clean_city_data_Nth['Humidity']\n",
    "(slope, intercept, rvalue, pvalue, stderr) = linregress(x_values, y_values)\n",
    "regress_values = x_values * slope + intercept\n",
    "line_eq = \"y = \" + str(round(slope,2)) + \"x + \" + str(round(intercept,2))\n",
    "plt.scatter(x_values,y_values)\n",
    "plt.plot(x_values,regress_values,\"r-\")\n",
    "plt.annotate(line_eq,(0,50),fontsize=15,color=\"red\")\n",
    "plt.xlabel('Latitute')\n",
    "plt.ylabel('Humidity (%)')\n",
    "print(f\"The r-squared is: {rvalue**2}\")\n",
    "plt.show()"
   ]
  },
  {
   "cell_type": "markdown",
   "metadata": {},
   "source": [
    "####  Northern Hemisphere - Humidity (%) vs. Latitude Linear Regression"
   ]
  },
  {
   "cell_type": "code",
   "execution_count": null,
   "metadata": {},
   "outputs": [],
   "source": [
    "x_values = clean_city_data_Sth['Lat']\n",
    "y_values = clean_city_data_Sth['Humidity']\n",
    "(slope, intercept, rvalue, pvalue, stderr) = linregress(x_values, y_values)\n",
    "regress_values = x_values * slope + intercept\n",
    "line_eq = \"y = \" + str(round(slope,2)) + \"x + \" + str(round(intercept,2))\n",
    "plt.scatter(x_values,y_values)\n",
    "plt.plot(x_values,regress_values,\"r-\")\n",
    "plt.annotate(line_eq,(-45,65),fontsize=15,color=\"red\")\n",
    "plt.xlabel('Latitute')\n",
    "plt.ylabel('Humidity (%)')\n",
    "print(f\"The r-squared is: {rvalue**2}\")\n",
    "plt.show()"
   ]
  },
  {
   "cell_type": "markdown",
   "metadata": {},
   "source": [
    "####  Southern Hemisphere - Humidity (%) vs. Latitude Linear Regression"
   ]
  },
  {
   "cell_type": "code",
   "execution_count": null,
   "metadata": {},
   "outputs": [],
   "source": [
    "x_values = clean_city_data_Nth['Lat']\n",
    "y_values = clean_city_data_Nth['Cloudiness']\n",
    "(slope, intercept, rvalue, pvalue, stderr) = linregress(x_values, y_values)\n",
    "regress_values = x_values * slope + intercept\n",
    "line_eq = \"y = \" + str(round(slope,2)) + \"x + \" + str(round(intercept,2))\n",
    "plt.scatter(x_values,y_values)\n",
    "plt.plot(x_values,regress_values,\"r-\")\n",
    "plt.annotate(line_eq,(20,50),fontsize=15,color=\"red\")\n",
    "plt.xlabel('Latitute')\n",
    "plt.ylabel('Cloudiness (%)')\n",
    "print(f\"The r-squared is: {rvalue**2}\")\n",
    "plt.show()"
   ]
  },
  {
   "cell_type": "markdown",
   "metadata": {},
   "source": [
    "####  Northern Hemisphere - Cloudiness (%) vs. Latitude Linear Regression"
   ]
  },
  {
   "cell_type": "code",
   "execution_count": null,
   "metadata": {},
   "outputs": [],
   "source": [
    "x_values = clean_city_data_Sth['Lat']\n",
    "y_values = clean_city_data_Sth['Cloudiness']\n",
    "(slope, intercept, rvalue, pvalue, stderr) = linregress(x_values, y_values)\n",
    "regress_values = x_values * slope + intercept\n",
    "line_eq = \"y = \" + str(round(slope,2)) + \"x + \" + str(round(intercept,2))\n",
    "plt.scatter(x_values,y_values)\n",
    "plt.plot(x_values,regress_values,\"r-\")\n",
    "plt.annotate(line_eq,(-50,50),fontsize=15,color=\"red\")\n",
    "plt.xlabel('Latitute')\n",
    "plt.ylabel('Cloudiness (%)')\n",
    "print(f\"The r-squared is: {rvalue**2}\")\n",
    "plt.show()"
   ]
  },
  {
   "cell_type": "markdown",
   "metadata": {},
   "source": [
    "####  Southern Hemisphere - Cloudiness (%) vs. Latitude Linear Regression"
   ]
  },
  {
   "cell_type": "code",
   "execution_count": null,
   "metadata": {},
   "outputs": [],
   "source": [
    "x_values = clean_city_data_Nth['Lat']\n",
    "y_values = clean_city_data_Nth['Wind Speed']\n",
    "(slope, intercept, rvalue, pvalue, stderr) = linregress(x_values, y_values)\n",
    "regress_values = x_values * slope + intercept\n",
    "line_eq = \"y = \" + str(round(slope,2)) + \"x + \" + str(round(intercept,2))\n",
    "plt.scatter(x_values,y_values)\n",
    "plt.plot(x_values,regress_values,\"r-\")\n",
    "plt.annotate(line_eq,(5,5),fontsize=15,color=\"red\")\n",
    "plt.xlabel('Latitute')\n",
    "plt.ylabel('Wind Speed (mph)')\n",
    "print(f\"The r-squared is: {rvalue**2}\")\n",
    "plt.show()"
   ]
  },
  {
   "cell_type": "markdown",
   "metadata": {},
   "source": [
    "####  Northern Hemisphere - Wind Speed (mph) vs. Latitude Linear Regression"
   ]
  },
  {
   "cell_type": "code",
   "execution_count": null,
   "metadata": {},
   "outputs": [],
   "source": [
    "x_values = clean_city_data_Sth['Lat']\n",
    "y_values = clean_city_data_Sth['Wind Speed']\n",
    "(slope, intercept, rvalue, pvalue, stderr) = linregress(x_values, y_values)\n",
    "regress_values = x_values * slope + intercept\n",
    "line_eq = \"y = \" + str(round(slope,2)) + \"x + \" + str(round(intercept,2))\n",
    "plt.scatter(x_values,y_values)\n",
    "plt.plot(x_values,regress_values,\"r-\")\n",
    "plt.annotate(line_eq,(-40,8),fontsize=15,color=\"red\")\n",
    "plt.xlabel('Latitute')\n",
    "plt.ylabel('Wind Speed (mph)')\n",
    "print(f\"The r-squared is: {rvalue**2}\")\n",
    "plt.show()"
   ]
  },
  {
   "cell_type": "markdown",
   "metadata": {},
   "source": [
    "####  Southern Hemisphere - Wind Speed (mph) vs. Latitude Linear Regression"
   ]
  },
  {
   "cell_type": "code",
   "execution_count": null,
   "metadata": {},
   "outputs": [],
   "source": []
  },
  {
   "cell_type": "code",
   "execution_count": null,
   "metadata": {},
   "outputs": [],
   "source": []
  }
 ],
 "metadata": {
  "anaconda-cloud": {},
  "kernel_info": {
   "name": "python3"
  },
  "kernelspec": {
   "display_name": "Python 3",
   "language": "python",
   "name": "python3"
  },
  "language_info": {
   "codemirror_mode": {
    "name": "ipython",
    "version": 3
   },
   "file_extension": ".py",
   "mimetype": "text/x-python",
   "name": "python",
   "nbconvert_exporter": "python",
   "pygments_lexer": "ipython3",
   "version": "3.8.5-final"
  },
  "latex_envs": {
   "LaTeX_envs_menu_present": true,
   "autoclose": false,
   "autocomplete": true,
   "bibliofile": "biblio.bib",
   "cite_by": "apalike",
   "current_citInitial": 1,
   "eqLabelWithNumbers": true,
   "eqNumInitial": 1,
   "hotkeys": {
    "equation": "Ctrl-E",
    "itemize": "Ctrl-I"
   },
   "labels_anchors": false,
   "latex_user_defs": false,
   "report_style_numbering": false,
   "user_envs_cfg": false
  },
  "nteract": {
   "version": "0.12.3"
  }
 },
 "nbformat": 4,
 "nbformat_minor": 2
}