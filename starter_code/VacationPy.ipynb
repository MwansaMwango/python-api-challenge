{
 "cells": [
  {
   "cell_type": "markdown",
   "metadata": {},
   "source": [
    "# VacationPy\n",
    "----\n",
    "\n",
    "#### Note\n",
    "* Keep an eye on your API usage. Use https://developers.google.com/maps/reporting/gmp-reporting as reference for how to monitor your usage and billing.\n",
    "\n",
    "* Instructions have been included for each segment. You do not have to follow them exactly, but they are included to help you think through the steps."
   ]
  },
  {
   "cell_type": "code",
   "execution_count": 12,
   "metadata": {},
   "outputs": [],
   "source": [
    "# Dependencies and Setup\n",
    "import matplotlib.pyplot as plt\n",
    "import pandas as pd\n",
    "import numpy as np\n",
    "import requests\n",
    "import gmaps\n",
    "\n",
    "\n",
    "# Import API key\n",
    "from api_keys import g_key"
   ]
  },
  {
   "cell_type": "markdown",
   "metadata": {},
   "source": [
    "### Store Part I results into DataFrame\n",
    "* Load the csv exported in Part I to a DataFrame"
   ]
  },
  {
   "cell_type": "code",
   "execution_count": 13,
   "metadata": {},
   "outputs": [
    {
     "output_type": "execute_result",
     "data": {
      "text/plain": [
       "              City  Cloudiness Country        Date  Humidity      Lat  \\\n",
       "0       Nikolskoye          75      RU  1612026470        93  59.7035   \n",
       "1            Korla           0      CN  1612026663        79  41.7597   \n",
       "2      San Nicolas          28      PH  1612026684        71  18.1725   \n",
       "3       Hambantota          90      LK  1612026671        83   6.1241   \n",
       "4       Chokurdakh           3      RU  1612026613        85  70.6333   \n",
       "..             ...         ...     ...         ...       ...      ...   \n",
       "725          Eskil         100      TR  1612038757        96  38.4017   \n",
       "726          Hobyo           7      SO  1612038758        78   5.3505   \n",
       "727          Lamar          90      US  1612038760        77  33.6668   \n",
       "728  Somerset East          15      ZA  1612038762        79 -32.7217   \n",
       "729       Sobolevo          99      RU  1612038763        98  54.4299   \n",
       "\n",
       "          Lng  Max Temp  Wind Speed  \n",
       "0     30.7861     -2.00        5.00  \n",
       "1     86.1469     -3.89        2.65  \n",
       "2    120.5953     20.24        4.66  \n",
       "3     81.1185     25.65        5.26  \n",
       "4    147.9167    -33.85        3.18  \n",
       "..        ...       ...         ...  \n",
       "725   33.4131      2.60        7.31  \n",
       "726   48.5268     24.17        6.76  \n",
       "727  -95.5836     20.00        7.72  \n",
       "728   25.5880     16.71        4.11  \n",
       "729   31.8996     -8.29        2.85  \n",
       "\n",
       "[730 rows x 9 columns]"
      ],
      "text/html": "<div>\n<style scoped>\n    .dataframe tbody tr th:only-of-type {\n        vertical-align: middle;\n    }\n\n    .dataframe tbody tr th {\n        vertical-align: top;\n    }\n\n    .dataframe thead th {\n        text-align: right;\n    }\n</style>\n<table border=\"1\" class=\"dataframe\">\n  <thead>\n    <tr style=\"text-align: right;\">\n      <th></th>\n      <th>City</th>\n      <th>Cloudiness</th>\n      <th>Country</th>\n      <th>Date</th>\n      <th>Humidity</th>\n      <th>Lat</th>\n      <th>Lng</th>\n      <th>Max Temp</th>\n      <th>Wind Speed</th>\n    </tr>\n  </thead>\n  <tbody>\n    <tr>\n      <th>0</th>\n      <td>Nikolskoye</td>\n      <td>75</td>\n      <td>RU</td>\n      <td>1612026470</td>\n      <td>93</td>\n      <td>59.7035</td>\n      <td>30.7861</td>\n      <td>-2.00</td>\n      <td>5.00</td>\n    </tr>\n    <tr>\n      <th>1</th>\n      <td>Korla</td>\n      <td>0</td>\n      <td>CN</td>\n      <td>1612026663</td>\n      <td>79</td>\n      <td>41.7597</td>\n      <td>86.1469</td>\n      <td>-3.89</td>\n      <td>2.65</td>\n    </tr>\n    <tr>\n      <th>2</th>\n      <td>San Nicolas</td>\n      <td>28</td>\n      <td>PH</td>\n      <td>1612026684</td>\n      <td>71</td>\n      <td>18.1725</td>\n      <td>120.5953</td>\n      <td>20.24</td>\n      <td>4.66</td>\n    </tr>\n    <tr>\n      <th>3</th>\n      <td>Hambantota</td>\n      <td>90</td>\n      <td>LK</td>\n      <td>1612026671</td>\n      <td>83</td>\n      <td>6.1241</td>\n      <td>81.1185</td>\n      <td>25.65</td>\n      <td>5.26</td>\n    </tr>\n    <tr>\n      <th>4</th>\n      <td>Chokurdakh</td>\n      <td>3</td>\n      <td>RU</td>\n      <td>1612026613</td>\n      <td>85</td>\n      <td>70.6333</td>\n      <td>147.9167</td>\n      <td>-33.85</td>\n      <td>3.18</td>\n    </tr>\n    <tr>\n      <th>...</th>\n      <td>...</td>\n      <td>...</td>\n      <td>...</td>\n      <td>...</td>\n      <td>...</td>\n      <td>...</td>\n      <td>...</td>\n      <td>...</td>\n      <td>...</td>\n    </tr>\n    <tr>\n      <th>725</th>\n      <td>Eskil</td>\n      <td>100</td>\n      <td>TR</td>\n      <td>1612038757</td>\n      <td>96</td>\n      <td>38.4017</td>\n      <td>33.4131</td>\n      <td>2.60</td>\n      <td>7.31</td>\n    </tr>\n    <tr>\n      <th>726</th>\n      <td>Hobyo</td>\n      <td>7</td>\n      <td>SO</td>\n      <td>1612038758</td>\n      <td>78</td>\n      <td>5.3505</td>\n      <td>48.5268</td>\n      <td>24.17</td>\n      <td>6.76</td>\n    </tr>\n    <tr>\n      <th>727</th>\n      <td>Lamar</td>\n      <td>90</td>\n      <td>US</td>\n      <td>1612038760</td>\n      <td>77</td>\n      <td>33.6668</td>\n      <td>-95.5836</td>\n      <td>20.00</td>\n      <td>7.72</td>\n    </tr>\n    <tr>\n      <th>728</th>\n      <td>Somerset East</td>\n      <td>15</td>\n      <td>ZA</td>\n      <td>1612038762</td>\n      <td>79</td>\n      <td>-32.7217</td>\n      <td>25.5880</td>\n      <td>16.71</td>\n      <td>4.11</td>\n    </tr>\n    <tr>\n      <th>729</th>\n      <td>Sobolevo</td>\n      <td>99</td>\n      <td>RU</td>\n      <td>1612038763</td>\n      <td>98</td>\n      <td>54.4299</td>\n      <td>31.8996</td>\n      <td>-8.29</td>\n      <td>2.85</td>\n    </tr>\n  </tbody>\n</table>\n<p>730 rows × 9 columns</p>\n</div>"
     },
     "metadata": {},
     "execution_count": 13
    }
   ],
   "source": [
    "city_weather_data = pd.read_csv('city_weather_data.csv').drop(['Unnamed: 0'], axis=1) #drop extra index on csv import\n",
    "city_weather_data\n"
   ]
  },
  {
   "cell_type": "markdown",
   "metadata": {},
   "source": [
    "### Humidity Heatmap\n",
    "* Configure gmaps.\n",
    "* Use the Lat and Lng as locations and Humidity as the weight.\n",
    "* Add Heatmap layer to map."
   ]
  },
  {
   "cell_type": "code",
   "execution_count": 14,
   "metadata": {},
   "outputs": [],
   "source": [
    "# Configure gmaps with API key\n",
    "gmaps.configure(api_key=g_key)"
   ]
  },
  {
   "cell_type": "code",
   "execution_count": 15,
   "metadata": {},
   "outputs": [],
   "source": [
    "# Store 'Lat' and 'Lng' into  locations \n",
    "locations = city_weather_data[[\"Lat\", \"Lng\"]].astype(float)\n",
    "\n",
    "# Store humidty as weight\n",
    "humidity = city_weather_data[\"Humidity\"].astype(float)"
   ]
  },
  {
   "cell_type": "code",
   "execution_count": 16,
   "metadata": {},
   "outputs": [
    {
     "output_type": "display_data",
     "data": {
      "text/plain": "Figure(layout=FigureLayout(height='420px'))",
      "application/vnd.jupyter.widget-view+json": {
       "version_major": 2,
       "version_minor": 0,
       "model_id": "055ee00d9f5943ccb989ebdf568ca8b7"
      }
     },
     "metadata": {}
    }
   ],
   "source": [
    "# Create a Humidity Heatmap layer\n",
    "fig = gmaps.figure(center=(0,0), zoom_level=2)\n",
    "\n",
    "heat_layer = gmaps.heatmap_layer(locations, weights=humidity, dissipating=False, max_intensity=100, point_radius = 2)\n",
    "\n",
    "fig.add_layer(heat_layer)\n",
    "\n",
    "fig"
   ]
  },
  {
   "cell_type": "markdown",
   "metadata": {},
   "source": [
    "### Create new DataFrame fitting weather criteria\n",
    "* Narrow down the cities to fit weather conditions.\n",
    "* Drop any rows will null values."
   ]
  },
  {
   "cell_type": "code",
   "execution_count": 20,
   "metadata": {},
   "outputs": [
    {
     "output_type": "execute_result",
     "data": {
      "text/plain": [
       "                City  Cloudiness Country        Date  Humidity      Lat  \\\n",
       "10          Vallenar           0      CL  1612026698        18 -28.5708   \n",
       "96   Arraial do Cabo           0      BR  1612026850        48 -22.9661   \n",
       "121            Paita           0      PE  1612026893        45  -5.0892   \n",
       "255  Arraial do Cabo           0      BR  1612026850        48 -22.9661   \n",
       "386  Arraial do Cabo           0      BR  1612026850        48 -22.9661   \n",
       "503  Arraial do Cabo           0      BR  1612027564        48 -22.9661   \n",
       "515         Tomatlán           0      MX  1612027586        25  19.9333   \n",
       "660  Arraial do Cabo           0      BR  1612027564        48 -22.9661   \n",
       "693  Arraial do Cabo           0      BR  1612027564        48 -22.9661   \n",
       "703            Manga           0      BF  1612027915        13  11.6636   \n",
       "\n",
       "          Lng  Max Temp  Wind Speed  \n",
       "10   -70.7581     31.71        5.22  \n",
       "96   -42.0278     34.00        8.75  \n",
       "121  -81.1144     32.00        5.66  \n",
       "255  -42.0278     34.00        8.75  \n",
       "386  -42.0278     34.00        8.75  \n",
       "503  -42.0278     34.00        8.75  \n",
       "515 -105.2500     33.10        1.91  \n",
       "660  -42.0278     34.00        8.75  \n",
       "693  -42.0278     34.00        8.75  \n",
       "703   -1.0731     30.25        2.80  "
      ],
      "text/html": "<div>\n<style scoped>\n    .dataframe tbody tr th:only-of-type {\n        vertical-align: middle;\n    }\n\n    .dataframe tbody tr th {\n        vertical-align: top;\n    }\n\n    .dataframe thead th {\n        text-align: right;\n    }\n</style>\n<table border=\"1\" class=\"dataframe\">\n  <thead>\n    <tr style=\"text-align: right;\">\n      <th></th>\n      <th>City</th>\n      <th>Cloudiness</th>\n      <th>Country</th>\n      <th>Date</th>\n      <th>Humidity</th>\n      <th>Lat</th>\n      <th>Lng</th>\n      <th>Max Temp</th>\n      <th>Wind Speed</th>\n    </tr>\n  </thead>\n  <tbody>\n    <tr>\n      <th>10</th>\n      <td>Vallenar</td>\n      <td>0</td>\n      <td>CL</td>\n      <td>1612026698</td>\n      <td>18</td>\n      <td>-28.5708</td>\n      <td>-70.7581</td>\n      <td>31.71</td>\n      <td>5.22</td>\n    </tr>\n    <tr>\n      <th>96</th>\n      <td>Arraial do Cabo</td>\n      <td>0</td>\n      <td>BR</td>\n      <td>1612026850</td>\n      <td>48</td>\n      <td>-22.9661</td>\n      <td>-42.0278</td>\n      <td>34.00</td>\n      <td>8.75</td>\n    </tr>\n    <tr>\n      <th>121</th>\n      <td>Paita</td>\n      <td>0</td>\n      <td>PE</td>\n      <td>1612026893</td>\n      <td>45</td>\n      <td>-5.0892</td>\n      <td>-81.1144</td>\n      <td>32.00</td>\n      <td>5.66</td>\n    </tr>\n    <tr>\n      <th>255</th>\n      <td>Arraial do Cabo</td>\n      <td>0</td>\n      <td>BR</td>\n      <td>1612026850</td>\n      <td>48</td>\n      <td>-22.9661</td>\n      <td>-42.0278</td>\n      <td>34.00</td>\n      <td>8.75</td>\n    </tr>\n    <tr>\n      <th>386</th>\n      <td>Arraial do Cabo</td>\n      <td>0</td>\n      <td>BR</td>\n      <td>1612026850</td>\n      <td>48</td>\n      <td>-22.9661</td>\n      <td>-42.0278</td>\n      <td>34.00</td>\n      <td>8.75</td>\n    </tr>\n    <tr>\n      <th>503</th>\n      <td>Arraial do Cabo</td>\n      <td>0</td>\n      <td>BR</td>\n      <td>1612027564</td>\n      <td>48</td>\n      <td>-22.9661</td>\n      <td>-42.0278</td>\n      <td>34.00</td>\n      <td>8.75</td>\n    </tr>\n    <tr>\n      <th>515</th>\n      <td>Tomatlán</td>\n      <td>0</td>\n      <td>MX</td>\n      <td>1612027586</td>\n      <td>25</td>\n      <td>19.9333</td>\n      <td>-105.2500</td>\n      <td>33.10</td>\n      <td>1.91</td>\n    </tr>\n    <tr>\n      <th>660</th>\n      <td>Arraial do Cabo</td>\n      <td>0</td>\n      <td>BR</td>\n      <td>1612027564</td>\n      <td>48</td>\n      <td>-22.9661</td>\n      <td>-42.0278</td>\n      <td>34.00</td>\n      <td>8.75</td>\n    </tr>\n    <tr>\n      <th>693</th>\n      <td>Arraial do Cabo</td>\n      <td>0</td>\n      <td>BR</td>\n      <td>1612027564</td>\n      <td>48</td>\n      <td>-22.9661</td>\n      <td>-42.0278</td>\n      <td>34.00</td>\n      <td>8.75</td>\n    </tr>\n    <tr>\n      <th>703</th>\n      <td>Manga</td>\n      <td>0</td>\n      <td>BF</td>\n      <td>1612027915</td>\n      <td>13</td>\n      <td>11.6636</td>\n      <td>-1.0731</td>\n      <td>30.25</td>\n      <td>2.80</td>\n    </tr>\n  </tbody>\n</table>\n</div>"
     },
     "metadata": {},
     "execution_count": 20
    }
   ],
   "source": [
    "#A max temperature lower than 35 degrees but higher than 30.\n",
    "#Wind speed less than 10 mph.\n",
    "#Less than 0% cloudiness\n",
    "\n",
    "hotel_df = city_weather_data.loc[(city_weather_data[\"Max Temp\"] > 30) & (city_weather_data[\"Max Temp\"] < 35) & (city_weather_data[\"Wind Speed\"] < 10) & (city_weather_data[\"Cloudiness\"] == 0) ]\n",
    "hotel_df"
   ]
  },
  {
   "cell_type": "markdown",
   "metadata": {},
   "source": [
    "### Hotel Map\n",
    "* Store into variable named `hotel_df`.\n",
    "* Add a \"Hotel Name\" column to the DataFrame.\n",
    "* Set parameters to search for hotels with 5000 meters.\n",
    "* Hit the Google Places API for each city's coordinates.\n",
    "* Store the first Hotel result into the DataFrame.\n",
    "* Plot markers on top of the heatmap."
   ]
  },
  {
   "cell_type": "code",
   "execution_count": 23,
   "metadata": {},
   "outputs": [
    {
     "output_type": "execute_result",
     "data": {
      "text/plain": [
       "                City  Cloudiness Country        Date  Humidity      Lat  \\\n",
       "10          Vallenar           0      CL  1612026698        18 -28.5708   \n",
       "96   Arraial do Cabo           0      BR  1612026850        48 -22.9661   \n",
       "121            Paita           0      PE  1612026893        45  -5.0892   \n",
       "515         Tomatlán           0      MX  1612027586        25  19.9333   \n",
       "703            Manga           0      BF  1612027915        13  11.6636   \n",
       "\n",
       "          Lng  Max Temp  Wind Speed Hotel Name  \n",
       "10   -70.7581     31.71        5.22             \n",
       "96   -42.0278     34.00        8.75             \n",
       "121  -81.1144     32.00        5.66             \n",
       "515 -105.2500     33.10        1.91             \n",
       "703   -1.0731     30.25        2.80             "
      ],
      "text/html": "<div>\n<style scoped>\n    .dataframe tbody tr th:only-of-type {\n        vertical-align: middle;\n    }\n\n    .dataframe tbody tr th {\n        vertical-align: top;\n    }\n\n    .dataframe thead th {\n        text-align: right;\n    }\n</style>\n<table border=\"1\" class=\"dataframe\">\n  <thead>\n    <tr style=\"text-align: right;\">\n      <th></th>\n      <th>City</th>\n      <th>Cloudiness</th>\n      <th>Country</th>\n      <th>Date</th>\n      <th>Humidity</th>\n      <th>Lat</th>\n      <th>Lng</th>\n      <th>Max Temp</th>\n      <th>Wind Speed</th>\n      <th>Hotel Name</th>\n    </tr>\n  </thead>\n  <tbody>\n    <tr>\n      <th>10</th>\n      <td>Vallenar</td>\n      <td>0</td>\n      <td>CL</td>\n      <td>1612026698</td>\n      <td>18</td>\n      <td>-28.5708</td>\n      <td>-70.7581</td>\n      <td>31.71</td>\n      <td>5.22</td>\n      <td></td>\n    </tr>\n    <tr>\n      <th>96</th>\n      <td>Arraial do Cabo</td>\n      <td>0</td>\n      <td>BR</td>\n      <td>1612026850</td>\n      <td>48</td>\n      <td>-22.9661</td>\n      <td>-42.0278</td>\n      <td>34.00</td>\n      <td>8.75</td>\n      <td></td>\n    </tr>\n    <tr>\n      <th>121</th>\n      <td>Paita</td>\n      <td>0</td>\n      <td>PE</td>\n      <td>1612026893</td>\n      <td>45</td>\n      <td>-5.0892</td>\n      <td>-81.1144</td>\n      <td>32.00</td>\n      <td>5.66</td>\n      <td></td>\n    </tr>\n    <tr>\n      <th>515</th>\n      <td>Tomatlán</td>\n      <td>0</td>\n      <td>MX</td>\n      <td>1612027586</td>\n      <td>25</td>\n      <td>19.9333</td>\n      <td>-105.2500</td>\n      <td>33.10</td>\n      <td>1.91</td>\n      <td></td>\n    </tr>\n    <tr>\n      <th>703</th>\n      <td>Manga</td>\n      <td>0</td>\n      <td>BF</td>\n      <td>1612027915</td>\n      <td>13</td>\n      <td>11.6636</td>\n      <td>-1.0731</td>\n      <td>30.25</td>\n      <td>2.80</td>\n      <td></td>\n    </tr>\n  </tbody>\n</table>\n</div>"
     },
     "metadata": {},
     "execution_count": 23
    }
   ],
   "source": [
    "hotel_df[\"Hotel Name\"] = \"\"\n",
    "hotel_df = hotel_df.dropna().drop_duplicates(\"City\") #remove duplicates.\n",
    "hotel_df"
   ]
  },
  {
   "cell_type": "code",
   "execution_count": 24,
   "metadata": {},
   "outputs": [],
   "source": [
    "# Fixed params independent of each iteration\n",
    "params = {\n",
    "    \"radius\": 5000,\n",
    "    \"types\": \"lodging\",\n",
    "    \"key\": g_key\n",
    "}\n",
    "\n",
    "base_url = \"https://maps.googleapis.com/maps/api/place/nearbysearch/json\"\n",
    "\n",
    "# Use the lat/lng \n",
    "for index, row in hotel_df.iterrows():\n",
    "    # get lat, lng \n",
    "    lat = row[\"Lat\"]\n",
    "    lng = row[\"Lng\"]\n",
    "    if row[\"Hotel Name\"]==\"\":\n",
    "\n",
    "        # change location params\n",
    "        params[\"location\"] = f\"{lat},{lng}\"\n",
    "\n",
    "        # make request \n",
    "        name = requests.get(base_url, params=params).json()\n",
    "        \n",
    "\n",
    "        hotel_df.loc[index, \"Hotel Name\"] = name[\"results\"][0][\"name\"]"
   ]
  },
  {
   "cell_type": "code",
   "execution_count": 25,
   "metadata": {},
   "outputs": [
    {
     "output_type": "execute_result",
     "data": {
      "text/plain": [
       "                City  Cloudiness Country        Date  Humidity      Lat  \\\n",
       "10          Vallenar           0      CL  1612026698        18 -28.5708   \n",
       "96   Arraial do Cabo           0      BR  1612026850        48 -22.9661   \n",
       "121            Paita           0      PE  1612026893        45  -5.0892   \n",
       "515         Tomatlán           0      MX  1612027586        25  19.9333   \n",
       "703            Manga           0      BF  1612027915        13  11.6636   \n",
       "\n",
       "          Lng  Max Temp  Wind Speed  \\\n",
       "10   -70.7581     31.71        5.22   \n",
       "96   -42.0278     34.00        8.75   \n",
       "121  -81.1144     32.00        5.66   \n",
       "515 -105.2500     33.10        1.91   \n",
       "703   -1.0731     30.25        2.80   \n",
       "\n",
       "                                         Hotel Name  \n",
       "10                          Humacao Bed & Breakfast  \n",
       "96                              Pousada Porto Praia  \n",
       "121                          Hotel Náutico de Paita  \n",
       "515                                    Norma franco  \n",
       "703  Auberge du 11 décembre de la cité CNSS à Manga  "
      ],
      "text/html": "<div>\n<style scoped>\n    .dataframe tbody tr th:only-of-type {\n        vertical-align: middle;\n    }\n\n    .dataframe tbody tr th {\n        vertical-align: top;\n    }\n\n    .dataframe thead th {\n        text-align: right;\n    }\n</style>\n<table border=\"1\" class=\"dataframe\">\n  <thead>\n    <tr style=\"text-align: right;\">\n      <th></th>\n      <th>City</th>\n      <th>Cloudiness</th>\n      <th>Country</th>\n      <th>Date</th>\n      <th>Humidity</th>\n      <th>Lat</th>\n      <th>Lng</th>\n      <th>Max Temp</th>\n      <th>Wind Speed</th>\n      <th>Hotel Name</th>\n    </tr>\n  </thead>\n  <tbody>\n    <tr>\n      <th>10</th>\n      <td>Vallenar</td>\n      <td>0</td>\n      <td>CL</td>\n      <td>1612026698</td>\n      <td>18</td>\n      <td>-28.5708</td>\n      <td>-70.7581</td>\n      <td>31.71</td>\n      <td>5.22</td>\n      <td>Humacao Bed &amp; Breakfast</td>\n    </tr>\n    <tr>\n      <th>96</th>\n      <td>Arraial do Cabo</td>\n      <td>0</td>\n      <td>BR</td>\n      <td>1612026850</td>\n      <td>48</td>\n      <td>-22.9661</td>\n      <td>-42.0278</td>\n      <td>34.00</td>\n      <td>8.75</td>\n      <td>Pousada Porto Praia</td>\n    </tr>\n    <tr>\n      <th>121</th>\n      <td>Paita</td>\n      <td>0</td>\n      <td>PE</td>\n      <td>1612026893</td>\n      <td>45</td>\n      <td>-5.0892</td>\n      <td>-81.1144</td>\n      <td>32.00</td>\n      <td>5.66</td>\n      <td>Hotel Náutico de Paita</td>\n    </tr>\n    <tr>\n      <th>515</th>\n      <td>Tomatlán</td>\n      <td>0</td>\n      <td>MX</td>\n      <td>1612027586</td>\n      <td>25</td>\n      <td>19.9333</td>\n      <td>-105.2500</td>\n      <td>33.10</td>\n      <td>1.91</td>\n      <td>Norma franco</td>\n    </tr>\n    <tr>\n      <th>703</th>\n      <td>Manga</td>\n      <td>0</td>\n      <td>BF</td>\n      <td>1612027915</td>\n      <td>13</td>\n      <td>11.6636</td>\n      <td>-1.0731</td>\n      <td>30.25</td>\n      <td>2.80</td>\n      <td>Auberge du 11 décembre de la cité CNSS à Manga</td>\n    </tr>\n  </tbody>\n</table>\n</div>"
     },
     "metadata": {},
     "execution_count": 25
    }
   ],
   "source": [
    "hotel_df"
   ]
  },
  {
   "cell_type": "code",
   "execution_count": 26,
   "metadata": {},
   "outputs": [],
   "source": [
    "# NOTE: Do not change any of the code in this cell\n",
    "\n",
    "# Using the template add the hotel marks to the heatmap\n",
    "info_box_template = \"\"\"\n",
    "<dl>\n",
    "<dt>Name</dt><dd>{Hotel Name}</dd>\n",
    "<dt>City</dt><dd>{City}</dd>\n",
    "<dt>Country</dt><dd>{Country}</dd>\n",
    "</dl>\n",
    "\"\"\"\n",
    "# Store the DataFrame Row\n",
    "# NOTE: be sure to update with your DataFrame name\n",
    "hotel_info = [info_box_template.format(**row) for index, row in hotel_df.iterrows()]\n",
    "locations = hotel_df[[\"Lat\", \"Lng\"]]"
   ]
  },
  {
   "cell_type": "code",
   "execution_count": 37,
   "metadata": {},
   "outputs": [
    {
     "output_type": "display_data",
     "data": {
      "text/plain": "Figure(layout=FigureLayout(height='420px'))",
      "application/vnd.jupyter.widget-view+json": {
       "version_major": 2,
       "version_minor": 0,
       "model_id": "749c1ee1ac3b4b479a619015dcb98e7b"
      }
     },
     "metadata": {}
    }
   ],
   "source": [
    "# Add marker layer ontop of heat map\n",
    "hotel_layer = gmaps.marker_layer(locations,info_box_content= hotel_info)\n",
    "fig = gmaps.figure(center=(0,0), zoom_level=2.0)\n",
    "fig.add_layer(heat_layer)\n",
    "fig.add_layer(hotel_layer)\n",
    "\n",
    "# Display figure\n",
    "fig\n",
    "\n"
   ]
  },
  {
   "cell_type": "code",
   "execution_count": null,
   "metadata": {},
   "outputs": [],
   "source": []
  }
 ],
 "metadata": {
  "kernelspec": {
   "name": "python3",
   "display_name": "Python 3.8.5 64-bit (conda)",
   "metadata": {
    "interpreter": {
     "hash": "2c3c5b7e521ed385cd317e5adc75c961fe301f41d1ed6ee19f28764a4ab100bf"
    }
   }
  },
  "language_info": {
   "codemirror_mode": {
    "name": "ipython",
    "version": 3
   },
   "file_extension": ".py",
   "mimetype": "text/x-python",
   "name": "python",
   "nbconvert_exporter": "python",
   "pygments_lexer": "ipython3",
   "version": "3.8.5-final"
  },
  "latex_envs": {
   "LaTeX_envs_menu_present": true,
   "autoclose": false,
   "autocomplete": true,
   "bibliofile": "biblio.bib",
   "cite_by": "apalike",
   "current_citInitial": 1,
   "eqLabelWithNumbers": true,
   "eqNumInitial": 1,
   "hotkeys": {
    "equation": "Ctrl-E",
    "itemize": "Ctrl-I"
   },
   "labels_anchors": false,
   "latex_user_defs": false,
   "report_style_numbering": false,
   "user_envs_cfg": false
  }
 },
 "nbformat": 4,
 "nbformat_minor": 4
}